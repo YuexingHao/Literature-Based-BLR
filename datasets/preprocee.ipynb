{
 "metadata": {
  "language_info": {
   "codemirror_mode": {
    "name": "ipython",
    "version": 3
   },
   "file_extension": ".py",
   "mimetype": "text/x-python",
   "name": "python",
   "nbconvert_exporter": "python",
   "pygments_lexer": "ipython3",
   "version": "3.8.8-final"
  },
  "orig_nbformat": 2,
  "kernelspec": {
   "name": "python3",
   "display_name": "Python 3",
   "language": "python"
  }
 },
 "nbformat": 4,
 "nbformat_minor": 2,
 "cells": [
  {
   "cell_type": "code",
   "execution_count": 27,
   "metadata": {},
   "outputs": [],
   "source": [
    "import pandas as pd"
   ]
  },
  {
   "cell_type": "code",
   "execution_count": 30,
   "metadata": {},
   "outputs": [
    {
     "output_type": "execute_result",
     "data": {
      "text/plain": [
       "                                               Title  \\\n",
       "0  Chronic spontaneous epidural hematoma in the l...   \n",
       "1  Stanford Type A Acute Aortic Dissection with P...   \n",
       "2  What can we learn from long-term studies on ch...   \n",
       "3  Thoracolumbar back pain as the leading symptom...   \n",
       "4  Life-threatening sustained hypocalcemia follow...   \n",
       "\n",
       "                    Article id Publication Date  \\\n",
       "0  35637479\\n25130006\\n8192075       2022-06-01   \n",
       "1                     35249953       2022-03-08   \n",
       "2                     35044534       2022-01-20   \n",
       "3                     34826847       2021-11-27   \n",
       "4                     34693819       2021-10-26   \n",
       "\n",
       "                                             Authors  \\\n",
       "0  ['Shusaku Fukatsu', 'Satoshi Ogihara', 'Hiroki...   \n",
       "1  ['Yukihiro Matsuno', 'Shohei Mitta', 'Yukio Um...   \n",
       "2  ['Alisa L Dutmer', 'Remko Soer', 'André P Wolf...   \n",
       "3  ['Julia Jaeger', 'Jörg Hammer', 'Constantin Eh...   \n",
       "4  ['Kanchi Patell', 'Kumar Ajay', 'Abdul Rahman ...   \n",
       "\n",
       "                                         Affliations  \\\n",
       "0  ['Department of Orthopaedic Surgery, Saitama M...   \n",
       "1  ['Department of Cardiovascular Surgery, Gifu P...   \n",
       "2  ['Department of Rehabilitation, University Med...   \n",
       "3  ['Thonbergklinik MVZ-Notfallzentrum, Leipzig.'...   \n",
       "4  ['24241St Vincent Charity Medical Center, Clev...   \n",
       "\n",
       "                                One Sentence Summary  \\\n",
       "0  A 71-year-old man presented with a 2-month his...   \n",
       "1  A 48-year-old woman with Turner syndrome prese...   \n",
       "2  Patients with persistent non-specific low back...   \n",
       "3  The patient had low back pain which was the on...   \n",
       "4  Denosumab, an anti-resorptive treatment for sk...   \n",
       "\n",
       "                                            Abstract  \\\n",
       "0  Chronic spinal epidural hematomas (SEHs) are r...   \n",
       "1  A 48-year-old woman who was diagnosed with Tur...   \n",
       "2  A scoping review was conducted with the object...   \n",
       "3   A 49-year-old male patient visited the surgic...   \n",
       "4  Prostate cancer is the second most frequently ...   \n",
       "\n",
       "                                          Population  \\\n",
       "0   The patient population of focus is people wit...   \n",
       "1   The patient population of focus is people wit...   \n",
       "2   The patient population of focus is adults wit...   \n",
       "3   The patient population of focus is people wit...   \n",
       "4   The patient population of focus is men with p...   \n",
       "\n",
       "                                  Clinical Condition Intervention  \\\n",
       "0                 Chronic spinal epidural hematomas.      Unknown   \n",
       "1           Stanford type A acute aortic dissection.      Unknown   \n",
       "2   The clinical condition or disease of focus in...      Unknown   \n",
       "3                                           COVID-19      Unknown   \n",
       "4                                    Prostate cancer      Unknown   \n",
       "\n",
       "                                     Patient Outcome  \\\n",
       "0   The patient's preoperative neurological sympt...   \n",
       "1   The patient's postoperative course was uneven...   \n",
       "2   The patient health outcomes of focus in the t...   \n",
       "3   The patient's low back pain resolved itself d...   \n",
       "4   The patient outcomes of focus in the text are...   \n",
       "\n",
       "                                       Study Outcome  \\\n",
       "0   The study found that a 71-year-old man who pr...   \n",
       "1   The study outcome was that the patient had an...   \n",
       "2   The study found that patients with persistent...   \n",
       "3   The patient was discharged after 13 days of i...   \n",
       "4   The study outcome is that Denosumab, an anti-...   \n",
       "\n",
       "                                        link  \n",
       "0  https://pubmed.ncbi.nlm.nih.gov/35637479/  \n",
       "1  https://pubmed.ncbi.nlm.nih.gov/35249953/  \n",
       "2  https://pubmed.ncbi.nlm.nih.gov/35044534/  \n",
       "3  https://pubmed.ncbi.nlm.nih.gov/34826847/  \n",
       "4  https://pubmed.ncbi.nlm.nih.gov/34693819/  "
      ],
      "text/html": "<div>\n<style scoped>\n    .dataframe tbody tr th:only-of-type {\n        vertical-align: middle;\n    }\n\n    .dataframe tbody tr th {\n        vertical-align: top;\n    }\n\n    .dataframe thead th {\n        text-align: right;\n    }\n</style>\n<table border=\"1\" class=\"dataframe\">\n  <thead>\n    <tr style=\"text-align: right;\">\n      <th></th>\n      <th>Title</th>\n      <th>Article id</th>\n      <th>Publication Date</th>\n      <th>Authors</th>\n      <th>Affliations</th>\n      <th>One Sentence Summary</th>\n      <th>Abstract</th>\n      <th>Population</th>\n      <th>Clinical Condition</th>\n      <th>Intervention</th>\n      <th>Patient Outcome</th>\n      <th>Study Outcome</th>\n      <th>link</th>\n    </tr>\n  </thead>\n  <tbody>\n    <tr>\n      <th>0</th>\n      <td>Chronic spontaneous epidural hematoma in the l...</td>\n      <td>35637479\\n25130006\\n8192075</td>\n      <td>2022-06-01</td>\n      <td>['Shusaku Fukatsu', 'Satoshi Ogihara', 'Hiroki...</td>\n      <td>['Department of Orthopaedic Surgery, Saitama M...</td>\n      <td>A 71-year-old man presented with a 2-month his...</td>\n      <td>Chronic spinal epidural hematomas (SEHs) are r...</td>\n      <td>The patient population of focus is people wit...</td>\n      <td>Chronic spinal epidural hematomas.</td>\n      <td>Unknown</td>\n      <td>The patient's preoperative neurological sympt...</td>\n      <td>The study found that a 71-year-old man who pr...</td>\n      <td>https://pubmed.ncbi.nlm.nih.gov/35637479/</td>\n    </tr>\n    <tr>\n      <th>1</th>\n      <td>Stanford Type A Acute Aortic Dissection with P...</td>\n      <td>35249953</td>\n      <td>2022-03-08</td>\n      <td>['Yukihiro Matsuno', 'Shohei Mitta', 'Yukio Um...</td>\n      <td>['Department of Cardiovascular Surgery, Gifu P...</td>\n      <td>A 48-year-old woman with Turner syndrome prese...</td>\n      <td>A 48-year-old woman who was diagnosed with Tur...</td>\n      <td>The patient population of focus is people wit...</td>\n      <td>Stanford type A acute aortic dissection.</td>\n      <td>Unknown</td>\n      <td>The patient's postoperative course was uneven...</td>\n      <td>The study outcome was that the patient had an...</td>\n      <td>https://pubmed.ncbi.nlm.nih.gov/35249953/</td>\n    </tr>\n    <tr>\n      <th>2</th>\n      <td>What can we learn from long-term studies on ch...</td>\n      <td>35044534</td>\n      <td>2022-01-20</td>\n      <td>['Alisa L Dutmer', 'Remko Soer', 'André P Wolf...</td>\n      <td>['Department of Rehabilitation, University Med...</td>\n      <td>Patients with persistent non-specific low back...</td>\n      <td>A scoping review was conducted with the object...</td>\n      <td>The patient population of focus is adults wit...</td>\n      <td>The clinical condition or disease of focus in...</td>\n      <td>Unknown</td>\n      <td>The patient health outcomes of focus in the t...</td>\n      <td>The study found that patients with persistent...</td>\n      <td>https://pubmed.ncbi.nlm.nih.gov/35044534/</td>\n    </tr>\n    <tr>\n      <th>3</th>\n      <td>Thoracolumbar back pain as the leading symptom...</td>\n      <td>34826847</td>\n      <td>2021-11-27</td>\n      <td>['Julia Jaeger', 'Jörg Hammer', 'Constantin Eh...</td>\n      <td>['Thonbergklinik MVZ-Notfallzentrum, Leipzig.'...</td>\n      <td>The patient had low back pain which was the on...</td>\n      <td>A 49-year-old male patient visited the surgic...</td>\n      <td>The patient population of focus is people wit...</td>\n      <td>COVID-19</td>\n      <td>Unknown</td>\n      <td>The patient's low back pain resolved itself d...</td>\n      <td>The patient was discharged after 13 days of i...</td>\n      <td>https://pubmed.ncbi.nlm.nih.gov/34826847/</td>\n    </tr>\n    <tr>\n      <th>4</th>\n      <td>Life-threatening sustained hypocalcemia follow...</td>\n      <td>34693819</td>\n      <td>2021-10-26</td>\n      <td>['Kanchi Patell', 'Kumar Ajay', 'Abdul Rahman ...</td>\n      <td>['24241St Vincent Charity Medical Center, Clev...</td>\n      <td>Denosumab, an anti-resorptive treatment for sk...</td>\n      <td>Prostate cancer is the second most frequently ...</td>\n      <td>The patient population of focus is men with p...</td>\n      <td>Prostate cancer</td>\n      <td>Unknown</td>\n      <td>The patient outcomes of focus in the text are...</td>\n      <td>The study outcome is that Denosumab, an anti-...</td>\n      <td>https://pubmed.ncbi.nlm.nih.gov/34693819/</td>\n    </tr>\n  </tbody>\n</table>\n</div>"
     },
     "metadata": {},
     "execution_count": 30
    }
   ],
   "source": [
    "df=pd.read_csv('lbp.csv', index_col=0)\n",
    "df.head(5)"
   ]
  },
  {
   "cell_type": "code",
   "execution_count": 32,
   "metadata": {},
   "outputs": [
    {
     "output_type": "execute_result",
     "data": {
      "text/plain": [
       "['Chronic spontaneous epidural hematoma in the lumbar spine with cauda equina syndrome and severe vertebral scalloping mimicking a spinal tumor: a case report.',\n",
       " 'Stanford Type A Acute Aortic Dissection with Persistent Left Superior Vena Cava in a Turner Syndrome Patient:Report of a Case.',\n",
       " 'What can we learn from long-term studies on chronic low back pain? A scoping review.',\n",
       " 'Thoracolumbar back pain as the leading symptom of a marked COVID-19 pneumonia.',\n",
       " 'Life-threatening sustained hypocalcemia following Denosumab use in metastatic prostate cancer.',\n",
       " 'A systematic review and meta-analysis of the effectiveness and adverse events of gabapentin and pregabalin for sciatica pain.',\n",
       " 'Fungal spondylodiscitis: imaging findings and brief review of the literature.',\n",
       " 'Erector spinae plane block for chronic low back pain analgesia: A case series.',\n",
       " 'Wunderlich syndrome secondary to severe acute pancreatitis.',\n",
       " 'Vertebral Compression Fractures-The First Manifestations in the Elderly Acute Lymphoblastic Leukemia.',\n",
       " 'Ultrasound-Guided Caudal Epidural Steroid Injection for Back Pain: A Case Report of Successful Emergency Department Management of Radicular Low Back Pain Symptoms.',\n",
       " 'Acute and 24 h effect of kinesio taping on lower back muscle soreness during continued practice of cross-country skiing among collegiate students. A double-blind, randomized, placebo-controlled trial.',\n",
       " 'Choroid plexus carcinoma with leptomeningeal spread in an adult: a\\xa0case report and \\xa0review of the\\xa0literature.',\n",
       " 'Failure of IVIG in steroid-responsive autoimmune glial fibrillary acidic protein astrocytopathy: A case report.',\n",
       " 'Circumcision devices versus standard surgical techniques in adolescent and adult male circumcisions.',\n",
       " 'Postoperative lumbar paraspinal compartment syndrome.',\n",
       " 'Cognitive load and the effectiveness of distraction for acute pain in children.',\n",
       " 'Intradural extramedullary capillary hemangioma of the cauda equina: case report of a rare spinal tumor.',\n",
       " \"Osteoporotic fracture and conservative management in Parkinson's disease and Pisa syndrome: Case report.\",\n",
       " 'Calcium pyrophosphate deposition (CPPD) in a liver transplant patient: are hypomagnesemia, tacrolimus or both guilty? A case-based literature review.']"
      ]
     },
     "metadata": {},
     "execution_count": 32
    }
   ],
   "source": [
    "df['Title']=df.apply(lambda row: row['Title'].strip('[').replace(']',''), axis=1)\n",
    "# df.Title.tolist()"
   ]
  },
  {
   "cell_type": "code",
   "execution_count": 33,
   "metadata": {},
   "outputs": [],
   "source": [
    "df['Article id']=df.apply(lambda row: row['Article id'].split('\\n')[0], axis=1)\n",
    "df.to_csv('lbp.csv')"
   ]
  },
  {
   "cell_type": "code",
   "execution_count": 44,
   "metadata": {},
   "outputs": [
    {
     "output_type": "execute_result",
     "data": {
      "text/plain": [
       "('Population', 'Clinical Condition', 'Intervention', 'Study Outcome', 'link')"
      ]
     },
     "metadata": {},
     "execution_count": 44
    }
   ],
   "source": [
    "df=pd.read_csv('lbp.csv', index_col=0)\n",
    "df=df.iloc[:3,:]\n",
    "col_to_show = ['Title'\n",
    "                ,'Population','Clinical Condition','Intervention',\n",
    "                'Study Outcome','link'\n",
    "                ]\n",
    "df = df[col_to_show]\n",
    "# data=df.T.apply(pd.Series.explode).to_dict(orient='records')\n",
    "# data\n",
    "\n",
    "tuple(df.iloc[:,1:].columns)\n",
    "# list(zip(*df.values()))"
   ]
  },
  {
   "cell_type": "code",
   "execution_count": 43,
   "metadata": {},
   "outputs": [
    {
     "output_type": "execute_result",
     "data": {
      "text/plain": [
       "('Chronic spontaneous epidural hematoma in the lumbar spine with cauda equina syndrome and severe vertebral scalloping mimicking a spinal tumor: a case report.',\n",
       " '[Stanford Type A Acute Aortic Dissection with Persistent Left Superior Vena Cava in a Turner Syndrome Patient:Report of a Case].',\n",
       " 'What can we learn from long-term studies on chronic low back pain? A scoping review.')"
      ]
     },
     "metadata": {},
     "execution_count": 43
    }
   ],
   "source": [
    "# tuple(df.itertuples(index=False, name=None))\n",
    "tuple(df.Title)"
   ]
  },
  {
   "cell_type": "code",
   "execution_count": null,
   "metadata": {},
   "outputs": [],
   "source": []
  }
 ]
}
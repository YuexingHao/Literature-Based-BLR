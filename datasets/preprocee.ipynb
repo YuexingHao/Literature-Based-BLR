{
 "metadata": {
  "language_info": {
   "codemirror_mode": {
    "name": "ipython",
    "version": 3
   },
   "file_extension": ".py",
   "mimetype": "text/x-python",
   "name": "python",
   "nbconvert_exporter": "python",
   "pygments_lexer": "ipython3",
   "version": "3.8.8-final"
  },
  "orig_nbformat": 2,
  "kernelspec": {
   "name": "python3",
   "display_name": "Python 3",
   "language": "python"
  }
 },
 "nbformat": 4,
 "nbformat_minor": 2,
 "cells": [
  {
   "cell_type": "code",
   "execution_count": 3,
   "metadata": {},
   "outputs": [],
   "source": [
    "import pandas as pd"
   ]
  },
  {
   "cell_type": "code",
   "execution_count": 4,
   "metadata": {},
   "outputs": [
    {
     "output_type": "execute_result",
     "data": {
      "text/plain": [
       "                                               Title  Article id  \\\n",
       "0  Symptoms, complications and management of long...    34265229   \n",
       "1  Case 22-2021: A 64-Year-Old Woman with Cogniti...    34289280   \n",
       "2                Cognitive dysfunction and migraine.    30442090   \n",
       "3  Neuropsychiatric lupus: new mechanistic insigh...    30659245   \n",
       "4  Nociplastic pain: towards an understanding of ...    34062144   \n",
       "\n",
       "  Publication Date                                            Authors  \\\n",
       "0       2021-07-16  Olalekan Lee Aiyegbusi,\\n Sarah E Hughes,\\n Gr...   \n",
       "1       2021-07-22  Shamik Bhattacharyya,\\n R Gilberto Gonzalez,\\n...   \n",
       "2       2018-11-18     Doga Vuralli,\\n Cenk Ayata,\\n Hayrunnisa Bolay   \n",
       "3       2019-01-20   Noa Schwartz,\\n Ariel D Stock,\\n Chaim Putterman   \n",
       "4       2021-06-02  Mary-Ann Fitzcharles,\\n Steven P Cohen,\\n Dani...   \n",
       "\n",
       "                                         Affliations  \\\n",
       "0  ['Institute of Applied Health Research, 1724Un...   \n",
       "1  [\"From the Department of Neurology, Brigham an...   \n",
       "2  ['Department of Neurology and Algology, Gazi U...   \n",
       "3  ['Division of Rheumatology, Hospital for Speci...   \n",
       "4  ['Department of Rheumatology and Alan Edwards ...   \n",
       "\n",
       "                                One Sentence Summary  \\\n",
       "0  Patients with long COVID often experience a wi...   \n",
       "1                                                NaN   \n",
       "2  Migraineurs show impaired cognitive function i...   \n",
       "3  The pathogenesis of NPSLE is poorly understood...   \n",
       "4  Nociplastic pain is a type of pain that is cau...   \n",
       "\n",
       "                                            Abstract  \\\n",
       "0  Globally, there are now over 160 million confi...   \n",
       "1                                                NaN   \n",
       "2  Cognitive dysfunction has recently gained atte...   \n",
       "3  Patients with systemic lupus erythematosus (SL...   \n",
       "4  Nociplastic pain is the semantic term suggeste...   \n",
       "\n",
       "                                          Population  \\\n",
       "0   The patient population of focus is people wit...   \n",
       "1   The patient population of focus is people wit...   \n",
       "2   The patient population of focus is people who...   \n",
       "3   The patient population of focus is systemic l...   \n",
       "4   The patient population of focus is people wit...   \n",
       "\n",
       "                                  Clinical Condition Intervention  \\\n",
       "0                                           COVID-19      Unknown   \n",
       "1                                            Unknown      Unknown   \n",
       "2   The clinical condition or disease of focus in...      Unknown   \n",
       "3   The clinical condition or disease of focus in...      Unknown   \n",
       "4                                   Nociplastic pain      Unknown   \n",
       "\n",
       "                                     Patient Outcome  \\\n",
       "0   The 10 most prevalent reported symptoms were ...   \n",
       "1                                                NaN   \n",
       "2   The patient health outcomes of focus in the t...   \n",
       "3   The patient health outcomes of focus in the t...   \n",
       "4                                            Unknown   \n",
       "\n",
       "                                       Study Outcome  \\\n",
       "0   The study outcome is that long COVID patients...   \n",
       "1                                                NaN   \n",
       "2   The study outcome is that migraineurs show im...   \n",
       "3                                            Unknown   \n",
       "4                                            Unknown   \n",
       "\n",
       "                                        link  \\\n",
       "0  https://pubmed.ncbi.nlm.nih.gov/34265229/   \n",
       "1  https://pubmed.ncbi.nlm.nih.gov/34289280/   \n",
       "2  https://pubmed.ncbi.nlm.nih.gov/30442090/   \n",
       "3  https://pubmed.ncbi.nlm.nih.gov/30659245/   \n",
       "4  https://pubmed.ncbi.nlm.nih.gov/34062144/   \n",
       "\n",
       "                                           New_Title  \n",
       "0  Symptoms, complications and management of long...  \n",
       "1  Case 22-2021: A 64-Year-Old Woman with Cogniti...  \n",
       "2         Cognitive dysfunction and migraine. (2018)  \n",
       "3  Neuropsychiatric lupus: new mechanistic insigh...  \n",
       "4  Nociplastic pain: towards an understanding of ...  "
      ],
      "text/html": "<div>\n<style scoped>\n    .dataframe tbody tr th:only-of-type {\n        vertical-align: middle;\n    }\n\n    .dataframe tbody tr th {\n        vertical-align: top;\n    }\n\n    .dataframe thead th {\n        text-align: right;\n    }\n</style>\n<table border=\"1\" class=\"dataframe\">\n  <thead>\n    <tr style=\"text-align: right;\">\n      <th></th>\n      <th>Title</th>\n      <th>Article id</th>\n      <th>Publication Date</th>\n      <th>Authors</th>\n      <th>Affliations</th>\n      <th>One Sentence Summary</th>\n      <th>Abstract</th>\n      <th>Population</th>\n      <th>Clinical Condition</th>\n      <th>Intervention</th>\n      <th>Patient Outcome</th>\n      <th>Study Outcome</th>\n      <th>link</th>\n      <th>New_Title</th>\n    </tr>\n  </thead>\n  <tbody>\n    <tr>\n      <th>0</th>\n      <td>Symptoms, complications and management of long...</td>\n      <td>34265229</td>\n      <td>2021-07-16</td>\n      <td>Olalekan Lee Aiyegbusi,\\n Sarah E Hughes,\\n Gr...</td>\n      <td>['Institute of Applied Health Research, 1724Un...</td>\n      <td>Patients with long COVID often experience a wi...</td>\n      <td>Globally, there are now over 160 million confi...</td>\n      <td>The patient population of focus is people wit...</td>\n      <td>COVID-19</td>\n      <td>Unknown</td>\n      <td>The 10 most prevalent reported symptoms were ...</td>\n      <td>The study outcome is that long COVID patients...</td>\n      <td>https://pubmed.ncbi.nlm.nih.gov/34265229/</td>\n      <td>Symptoms, complications and management of long...</td>\n    </tr>\n    <tr>\n      <th>1</th>\n      <td>Case 22-2021: A 64-Year-Old Woman with Cogniti...</td>\n      <td>34289280</td>\n      <td>2021-07-22</td>\n      <td>Shamik Bhattacharyya,\\n R Gilberto Gonzalez,\\n...</td>\n      <td>[\"From the Department of Neurology, Brigham an...</td>\n      <td>NaN</td>\n      <td>NaN</td>\n      <td>The patient population of focus is people wit...</td>\n      <td>Unknown</td>\n      <td>Unknown</td>\n      <td>NaN</td>\n      <td>NaN</td>\n      <td>https://pubmed.ncbi.nlm.nih.gov/34289280/</td>\n      <td>Case 22-2021: A 64-Year-Old Woman with Cogniti...</td>\n    </tr>\n    <tr>\n      <th>2</th>\n      <td>Cognitive dysfunction and migraine.</td>\n      <td>30442090</td>\n      <td>2018-11-18</td>\n      <td>Doga Vuralli,\\n Cenk Ayata,\\n Hayrunnisa Bolay</td>\n      <td>['Department of Neurology and Algology, Gazi U...</td>\n      <td>Migraineurs show impaired cognitive function i...</td>\n      <td>Cognitive dysfunction has recently gained atte...</td>\n      <td>The patient population of focus is people who...</td>\n      <td>The clinical condition or disease of focus in...</td>\n      <td>Unknown</td>\n      <td>The patient health outcomes of focus in the t...</td>\n      <td>The study outcome is that migraineurs show im...</td>\n      <td>https://pubmed.ncbi.nlm.nih.gov/30442090/</td>\n      <td>Cognitive dysfunction and migraine. (2018)</td>\n    </tr>\n    <tr>\n      <th>3</th>\n      <td>Neuropsychiatric lupus: new mechanistic insigh...</td>\n      <td>30659245</td>\n      <td>2019-01-20</td>\n      <td>Noa Schwartz,\\n Ariel D Stock,\\n Chaim Putterman</td>\n      <td>['Division of Rheumatology, Hospital for Speci...</td>\n      <td>The pathogenesis of NPSLE is poorly understood...</td>\n      <td>Patients with systemic lupus erythematosus (SL...</td>\n      <td>The patient population of focus is systemic l...</td>\n      <td>The clinical condition or disease of focus in...</td>\n      <td>Unknown</td>\n      <td>The patient health outcomes of focus in the t...</td>\n      <td>Unknown</td>\n      <td>https://pubmed.ncbi.nlm.nih.gov/30659245/</td>\n      <td>Neuropsychiatric lupus: new mechanistic insigh...</td>\n    </tr>\n    <tr>\n      <th>4</th>\n      <td>Nociplastic pain: towards an understanding of ...</td>\n      <td>34062144</td>\n      <td>2021-06-02</td>\n      <td>Mary-Ann Fitzcharles,\\n Steven P Cohen,\\n Dani...</td>\n      <td>['Department of Rheumatology and Alan Edwards ...</td>\n      <td>Nociplastic pain is a type of pain that is cau...</td>\n      <td>Nociplastic pain is the semantic term suggeste...</td>\n      <td>The patient population of focus is people wit...</td>\n      <td>Nociplastic pain</td>\n      <td>Unknown</td>\n      <td>Unknown</td>\n      <td>Unknown</td>\n      <td>https://pubmed.ncbi.nlm.nih.gov/34062144/</td>\n      <td>Nociplastic pain: towards an understanding of ...</td>\n    </tr>\n  </tbody>\n</table>\n</div>"
     },
     "metadata": {},
     "execution_count": 4
    }
   ],
   "source": [
    "df=pd.read_csv('cognitive_impair.csv', index_col=0)\n",
    "df.head(5)"
   ]
  },
  {
   "cell_type": "code",
   "execution_count": 6,
   "metadata": {},
   "outputs": [],
   "source": [
    "# df['Authors']=df.apply(lambda row: row['Authors'].strip(\"['\").strip(\"']\").replace(\"', '\",\",\\n \"), axis=1)\n",
    "df['First_Author']=df.apply(lambda row: row['Authors'].split(\",\")[0]+\" et al.\", axis=1)\n",
    "# df.to_csv('lbp.csv')"
   ]
  },
  {
   "cell_type": "code",
   "execution_count": 24,
   "metadata": {},
   "outputs": [],
   "source": [
    "df['Title']=df.apply(lambda row: row['Title'].strip('[').replace(']',''), axis=1)\n",
    "# df.Title.tolist()"
   ]
  },
  {
   "cell_type": "code",
   "execution_count": 30,
   "metadata": {},
   "outputs": [],
   "source": [
    "df['New_Title']=df.apply(lambda row: row['Title']+\" (\"+row['Publication Date'].split('-')[0]+\")\", axis=1)"
   ]
  },
  {
   "cell_type": "code",
   "execution_count": 7,
   "metadata": {},
   "outputs": [],
   "source": [
    "# df['Article id']=df.apply(lambda row: row['Article id'].split('\\n')[0], axis=1)\n",
    "df.to_csv('cognitive_impair.csv')"
   ]
  },
  {
   "cell_type": "code",
   "execution_count": 44,
   "metadata": {},
   "outputs": [
    {
     "output_type": "execute_result",
     "data": {
      "text/plain": [
       "('Population', 'Clinical Condition', 'Intervention', 'Study Outcome', 'link')"
      ]
     },
     "metadata": {},
     "execution_count": 44
    }
   ],
   "source": [
    "df=pd.read_csv('lbp.csv', index_col=0)\n",
    "df=df.iloc[:3,:]\n",
    "col_to_show = ['Title'\n",
    "                ,'Population','Clinical Condition','Intervention',\n",
    "                'Study Outcome','link'\n",
    "                ]\n",
    "df = df[col_to_show]\n",
    "# data=df.T.apply(pd.Series.explode).to_dict(orient='records')\n",
    "# data\n",
    "\n",
    "tuple(df.iloc[:,1:].columns)\n",
    "# list(zip(*df.values()))"
   ]
  },
  {
   "cell_type": "code",
   "execution_count": 43,
   "metadata": {},
   "outputs": [
    {
     "output_type": "execute_result",
     "data": {
      "text/plain": [
       "('Chronic spontaneous epidural hematoma in the lumbar spine with cauda equina syndrome and severe vertebral scalloping mimicking a spinal tumor: a case report.',\n",
       " '[Stanford Type A Acute Aortic Dissection with Persistent Left Superior Vena Cava in a Turner Syndrome Patient:Report of a Case].',\n",
       " 'What can we learn from long-term studies on chronic low back pain? A scoping review.')"
      ]
     },
     "metadata": {},
     "execution_count": 43
    }
   ],
   "source": [
    "# tuple(df.itertuples(index=False, name=None))\n",
    "tuple(df.Title)"
   ]
  },
  {
   "cell_type": "code",
   "execution_count": null,
   "metadata": {},
   "outputs": [],
   "source": []
  }
 ]
}